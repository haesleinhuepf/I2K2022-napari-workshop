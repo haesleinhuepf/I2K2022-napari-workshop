{
 "cells": [
  {
   "cell_type": "markdown",
   "id": "24549d6b-ff0a-45a5-8c9e-1c8c2e9a0ead",
   "metadata": {},
   "source": [
    "# Open cells3D and save it to local folder"
   ]
  },
  {
   "cell_type": "markdown",
   "id": "64d7997d-c599-464b-ac46-b649105f2191",
   "metadata": {},
   "source": [
    "This notebooks opens 'cells3D' image from scikit-image and saves two files to a local 'data' folder"
   ]
  },
  {
   "cell_type": "code",
   "execution_count": 1,
   "id": "7821bc45-75ae-4968-b432-007646a73525",
   "metadata": {},
   "outputs": [],
   "source": [
    "from skimage.data import cells3d\n",
    "from skimage.io import imsave"
   ]
  },
  {
   "cell_type": "code",
   "execution_count": 2,
   "id": "b4ff20e4-3190-4e89-ace9-20149bf68fea",
   "metadata": {},
   "outputs": [],
   "source": [
    "image = cells3d()[:,0]\n",
    "image_cropped = image[:,45:230,25:220]"
   ]
  },
  {
   "cell_type": "code",
   "execution_count": 3,
   "id": "5829401d-833e-4322-9d72-6e1ea12ba59c",
   "metadata": {},
   "outputs": [],
   "source": [
    "imsave('data/nuclei3d.tif', image)"
   ]
  },
  {
   "cell_type": "code",
   "execution_count": 4,
   "id": "bcb856e6-a03c-4ba8-8b55-7d60be3f3fbc",
   "metadata": {},
   "outputs": [],
   "source": [
    "imsave('data/nuclei3d_cropped.tif', image_cropped)"
   ]
  },
  {
   "cell_type": "code",
   "execution_count": null,
   "id": "059987f5-2e4e-44e5-91cb-07c84d7add23",
   "metadata": {},
   "outputs": [],
   "source": []
  }
 ],
 "metadata": {
  "kernelspec": {
   "display_name": "Python 3 (ipykernel)",
   "language": "python",
   "name": "python3"
  },
  "language_info": {
   "codemirror_mode": {
    "name": "ipython",
    "version": 3
   },
   "file_extension": ".py",
   "mimetype": "text/x-python",
   "name": "python",
   "nbconvert_exporter": "python",
   "pygments_lexer": "ipython3",
   "version": "3.9.12"
  }
 },
 "nbformat": 4,
 "nbformat_minor": 5
}
